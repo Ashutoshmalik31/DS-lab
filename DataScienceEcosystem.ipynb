{
 "cells": [
  {
   "cell_type": "markdown",
   "id": "df0e92c7-d4f8-4238-b4ec-449647bc656d",
   "metadata": {},
   "source": [
    "# Data Science Tools and Ecosystem"
   ]
  },
  {
   "cell_type": "markdown",
   "id": "514af073-93a6-46bc-bba1-ef7dddb1f46f",
   "metadata": {},
   "source": [
    "In this notebook, Data Science Tools and Ecosystem are summarized."
   ]
  },
  {
   "cell_type": "markdown",
   "id": "7e1c8301-991b-42c2-825f-e4048d01b016",
   "metadata": {},
   "source": [
    "**Objectives:**\n",
    "- List popular languages used in Data Science\n",
    "- List commonly used libraries in Data Science\n",
    "- List open source data science tools\n"
   ]
  },
  {
   "cell_type": "code",
   "execution_count": null,
   "id": "aa76b09b-9ab7-4d99-9e3a-e2d7fbb0d208",
   "metadata": {},
   "outputs": [],
   "source": [
    "Some of the popular languages that Data Scientists use are:\n",
    "1. Python\n",
    "2. SQL\n",
    "3. R"
   ]
  },
  {
   "cell_type": "code",
   "execution_count": null,
   "id": "767ad610-8250-49f7-958e-776a2e2feeb2",
   "metadata": {},
   "outputs": [],
   "source": [
    "Some of the commonly used libraries used by Data Scientists include:\n",
    "1. Numpy\n",
    "2. Pandas\n",
    "3. Matplotlib\n",
    "4. Sci-kit learn\n",
    "5. Tensor Flow"
   ]
  },
  {
   "cell_type": "code",
   "execution_count": null,
   "id": "8252784a-a768-43d2-8c6a-ac64d2746f70",
   "metadata": {},
   "outputs": [],
   "source": [
    "| Data Science Tools |\n",
    "----------------------\n",
    "| 1. JupyterLab      |\n",
    "| 2. Rstudio         |\n",
    "| 3. GoogleColab     |"
   ]
  },
  {
   "cell_type": "markdown",
   "id": "a0d117f4-e9c4-453d-ab83-c35cf7ce735c",
   "metadata": {},
   "source": [
    "### Below are a few examples of evaluating arithmetic expressions in Python"
   ]
  },
  {
   "cell_type": "code",
   "execution_count": 4,
   "id": "c2670f98-f781-4e58-8b08-90da59237c98",
   "metadata": {},
   "outputs": [
    {
     "data": {
      "text/plain": [
       "17"
      ]
     },
     "execution_count": 4,
     "metadata": {},
     "output_type": "execute_result"
    }
   ],
   "source": [
    "# This a simple arithmetic expression to mutiply then add integers\n",
    "(3*4) + 5"
   ]
  },
  {
   "cell_type": "code",
   "execution_count": 5,
   "id": "d77b8bb4-418e-48c4-94a2-9bb371be79a8",
   "metadata": {},
   "outputs": [
    {
     "data": {
      "text/plain": [
       "3.3333333333333335"
      ]
     },
     "execution_count": 5,
     "metadata": {},
     "output_type": "execute_result"
    }
   ],
   "source": [
    "# This will convert 200 minutes to hours by diving by 60\n",
    "(200/60)"
   ]
  },
  {
   "cell_type": "markdown",
   "id": "23b23247-ad30-474f-b77f-37337a025f19",
   "metadata": {},
   "source": [
    "## Author:\n",
    "Ashutosh Malik (Author)"
   ]
  },
  {
   "cell_type": "code",
   "execution_count": null,
   "id": "7f904f71-ff38-4025-81de-4afa9e8f57ad",
   "metadata": {},
   "outputs": [],
   "source": []
  }
 ],
 "metadata": {
  "kernelspec": {
   "display_name": "Python [conda env:base] *",
   "language": "python",
   "name": "conda-base-py"
  },
  "language_info": {
   "codemirror_mode": {
    "name": "ipython",
    "version": 3
   },
   "file_extension": ".py",
   "mimetype": "text/x-python",
   "name": "python",
   "nbconvert_exporter": "python",
   "pygments_lexer": "ipython3",
   "version": "3.12.7"
  }
 },
 "nbformat": 4,
 "nbformat_minor": 5
}
